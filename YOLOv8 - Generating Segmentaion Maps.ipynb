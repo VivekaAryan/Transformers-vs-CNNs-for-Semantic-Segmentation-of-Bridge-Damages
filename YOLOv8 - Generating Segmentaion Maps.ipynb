{
 "cells": [
  {
   "cell_type": "code",
   "execution_count": 1,
   "metadata": {},
   "outputs": [],
   "source": [
    "import os\n",
    "import numpy as np\n",
    "from dacl10k import utils\n",
    "import cv2\n",
    "import matplotlib.pyplot as plt"
   ]
  },
  {
   "cell_type": "code",
   "execution_count": 88,
   "metadata": {},
   "outputs": [
    {
     "data": {
      "text/plain": [
       "<matplotlib.image.AxesImage at 0x2df87b19ac0>"
      ]
     },
     "execution_count": 88,
     "metadata": {},
     "output_type": "execute_result"
    },
    {
     "data": {
      "image/png": "[encoded data removed]",
      "text/plain": [
       "<Figure size 640x480 with 1 Axes>"
      ]
     },
     "metadata": {},
     "output_type": "display_data"
    }
   ],
   "source": [
    "test_pic = cv2.imread(r\"ttest_label_001_2.png\")\n",
    "plt.imshow(test_pic)"
   ]
  },
  {
   "attachments": {},
   "cell_type": "markdown",
   "metadata": {},
   "source": [
    "## Segmentation maps for Train"
   ]
  },
  {
   "cell_type": "code",
   "execution_count": 19,
   "metadata": {},
   "outputs": [],
   "source": [
    "folder_path = (r\"C:\\aryan\\Cracks\\data\\dacl10k_v2_devphase\\resized\\data\\seg_maps_aug\\train\")\n",
    "\n",
    "if not os.path.exists(folder_path):\n",
    "    os.makedirs(folder_path)\n",
    "\n",
    "path_to_labels_train = \"C:/aryan/Cracks/data/dacl10k_v2_devphase/resized/data/seg_maps_aug/train/\"\n",
    "path_to_masks_train = \"C:/aryan/Cracks/data/dacl10k_v2_devphase/resized/data/annotations_json_aug/train/\"\n",
    "\n",
    "train_masks = os.listdir(path_to_masks_train)\n",
    "num_classes = 19\n",
    "\n",
    "# train_masks[:2]\n",
    "for m in train_masks:\n",
    "    # Create an empty array for the composite image\n",
    "    composite_mask = np.zeros((512, 512, 3), dtype=np.uint8)\n",
    "\n",
    "    mask = utils.labelme2mask(path_to_masks_train + m)\n",
    "\n",
    "    for class_index in range(1, num_classes + 1):\n",
    "        class_mask = mask[:, :, class_index - 1]\n",
    "        composite_mask[class_mask > 0] = class_index\n",
    "\n",
    "# Display the composite image\n",
    "    cv2.imwrite(path_to_labels_train + m[:-5] + \".png\",composite_mask)"
   ]
  },
  {
   "cell_type": "markdown",
   "metadata": {},
   "source": [
    "## Segmentation maps for Validation"
   ]
  },
  {
   "cell_type": "code",
   "execution_count": 6,
   "metadata": {},
   "outputs": [],
   "source": [
    "folder_path = r\"C:\\aryan\\Cracks\\data\\dacl10k_v2_devphase\\resized\\640x640\\seg_maps_aug\\validation\"\n",
    "\n",
    "if not os.path.exists(folder_path):\n",
    "    os.makedirs(folder_path)\n",
    "\n",
    "path_to_labels_validation = \"C:/aryan/Cracks/data/dacl10k_v2_devphase/resized/640x640/seg_maps_aug/validation/\"\n",
    "path_to_masks_validation = \"C:/aryan/Cracks/data/dacl10k_v2_devphase/resized/640x640/annotations/validation/\"\n",
    "val_masks = os.listdir(path_to_masks_validation)\n",
    "num_classes = 19\n",
    "\n",
    "# train_masks[:2]\n",
    "for m in val_masks:\n",
    "    # Create an empty array for the composite image\n",
    "    composite_mask = np.zeros((640, 640, 3), dtype=np.uint8)\n",
    "\n",
    "    mask = utils.labelme2mask(path_to_masks_validation + m)\n",
    "\n",
    "    for class_index in range(1, num_classes + 1):\n",
    "        class_mask = mask[:, :, class_index - 1] \n",
    "        composite_mask[class_mask > 0] = class_index\n",
    "\n",
    "# Display the composite image\n",
    "    cv2.imwrite(path_to_labels_validation + m[:-5] + \".png\",composite_mask)"
   ]
  },
  {
   "attachments": {},
   "cell_type": "markdown",
   "metadata": {},
   "source": [
    "# Test Space"
   ]
  },
  {
   "cell_type": "code",
   "execution_count": 85,
   "metadata": {},
   "outputs": [
    {
     "name": "stdout",
     "output_type": "stream",
     "text": [
      "<class 'numpy.ndarray'>\n",
      "[ 0  2  9 15]\n"
     ]
    }
   ],
   "source": [
    "path_to_masks_train = \"C:/Users/vravula/Downloads/Cracks/data/dacl10k_v2_devphase/resized/data/annotations_json/train/\"\n",
    "train_masks = os.listdir(path_to_masks_train)\n",
    "num_classes = 19\n",
    "\n",
    "# Define RGB colors for each of the 19 classes\n",
    "class_colors = [\n",
    "    (255, 0, 0),     # Class 0: Red\n",
    "    (0, 255, 0),     # Class 1: Green\n",
    "    (0, 0, 255),     # Class 2: Blue\n",
    "    (255, 255, 0),   # Class 3: Yellow\n",
    "    (255, 0, 255),   # Class 4: Magenta\n",
    "    (0, 255, 255),   # Class 5: Cyan\n",
    "    (128, 0, 0),     # Class 6: Maroon\n",
    "    (0, 128, 0),     # Class 7: Green\n",
    "    (0, 0, 128),     # Class 8: Navy\n",
    "    (128, 128, 0),   # Class 9: Olive\n",
    "    (128, 0, 128),   # Class 10: Purple\n",
    "    (0, 128, 128),   # Class 11: Teal\n",
    "    (192, 192, 192), # Class 12: Silver\n",
    "    (128, 128, 128), # Class 13: Gray\n",
    "    (255, 165, 0),   # Class 14: Orange\n",
    "    (128, 0, 64),    # Class 15: Burgundy\n",
    "    (255, 128, 0),   # Class 16: Orange-red\n",
    "    (0, 128, 64),    # Class 17: Dark Green\n",
    "    (128, 64, 0)     # Class 18: Brown\n",
    "]\n",
    "\n",
    "# train_masks[:2]\n",
    "for m in train_masks:\n",
    "    # Create an empty array for the composite image\n",
    "    composite_mask = np.zeros((512, 512), dtype=np.uint8)\n",
    "    \n",
    "    if m == \"dacl10k_v2_train_0001.json\":\n",
    "        mask = utils.labelme2mask(path_to_masks_train + m)\n",
    "\n",
    "        for class_index in range(0, num_classes):\n",
    "            class_mask = mask[:, :, class_index]\n",
    "            composite_mask[class_mask > 0] = class_index\n",
    "\n",
    "        # print(list_n)\n",
    "        print(type(composite_mask))\n",
    "        print(np.unique(composite_mask))\n",
    "\n",
    "# Display the composite image\n",
    "        cv2.imwrite(\"ttest_label_001_2.png\",composite_mask)"
   ]
  },
  {
   "cell_type": "code",
   "execution_count": 2,
   "metadata": {},
   "outputs": [
    {
     "name": "stdout",
     "output_type": "stream",
     "text": [
      "{'unlabelled': 'PEquipment', 'Crack': 'Crack', 'ACrack': 'Efflorescence', 'Wetspot': 'Spalling', 'Efflorescence': 'Cavity', 'Rust': 'Graffiti', 'Rockpocket': 'WConccor', 'Hollowareas': 'Restformwork', 'Cavity': 'Hollowareas', 'Spalling': 'Bearing', 'Graffiti': 'ACrack', 'Weathering': 'JTape', 'Restformwork': 'Weathering', 'ExposedRebars': 'Rust', 'Bearing': 'EJoint', 'EJoint': 'Wetspot', 'Drainage': 'Rockpocket', 'PEquipment': 'ExposedRebars', 'JTape': 'Drainage'}\n"
     ]
    }
   ],
   "source": [
    "ground_truth_mapping = {\n",
    "    0: 'unlabelled',\n",
    "    1: 'Crack',\n",
    "    2: 'ACrack',\n",
    "    3: 'Wetspot',\n",
    "    4: 'Efflorescence',\n",
    "    5: 'Rust',\n",
    "    6: 'Rockpocket',\n",
    "    7: 'Hollowareas',\n",
    "    8: 'Cavity',\n",
    "    9: 'Spalling',\n",
    "    10: 'Graffiti',\n",
    "    11: 'Weathering',\n",
    "    12: 'Restformwork',\n",
    "    13: 'ExposedRebars',\n",
    "    14: 'Bearing',\n",
    "    15: 'EJoint',\n",
    "    16: 'Drainage',\n",
    "    17: 'PEquipment',\n",
    "    18: 'JTape',\n",
    "    19: 'WConccor'\n",
    "}\n",
    "\n",
    "new_mapping = {\n",
    "    0: 'PEquipment',\n",
    "    1: 'Crack',\n",
    "    2: 'Efflorescence',\n",
    "    3: 'Spalling',\n",
    "    4: 'Cavity',\n",
    "    5: 'Graffiti',\n",
    "    6: 'WConccor',\n",
    "    7: 'Restformwork',\n",
    "    8: 'Hollowareas',\n",
    "    9: 'Bearing',\n",
    "    10: 'ACrack',\n",
    "    11: 'JTape',\n",
    "    12: 'Weathering',\n",
    "    13: 'Rust',\n",
    "    14: 'EJoint',\n",
    "    15: 'Wetspot',\n",
    "    16: 'Rockpocket',\n",
    "    17: 'ExposedRebars',\n",
    "    18: 'Drainage'\n",
    "}\n",
    "\n",
    "correct_mapping = {\n",
    "    0: 17,\n",
    "    1: 1,\n",
    "    2: 4,\n",
    "    3: 9,\n",
    "    4: 8,\n",
    "    5: 10,\n",
    "    6: 19,\n",
    "    7: 12,\n",
    "    8: 7,\n",
    "    9: 14,\n",
    "    10: 2,\n",
    "    11: 18,\n",
    "    12: 11,\n",
    "    13: 5,\n",
    "    14: 15,\n",
    "    15: 3,\n",
    "    16: 6,\n",
    "    17: 13,\n",
    "    18: 16\n",
    "}\n",
    "\n",
    "# Create a mapping dictionary\n",
    "mapping_dict = {ground_truth_mapping[i]: new_mapping[i] for i in range(len(new_mapping))}\n",
    "\n",
    "print(mapping_dict)"
   ]
  },
  {
   "cell_type": "code",
   "execution_count": null,
   "metadata": {},
   "outputs": [],
   "source": []
  }
 ],
 "metadata": {
  "kernelspec": {
   "display_name": ".venv",
   "language": "python",
   "name": "python3"
  },
  "language_info": {
   "codemirror_mode": {
    "name": "ipython",
    "version": 3
   },
   "file_extension": ".py",
   "mimetype": "text/x-python",
   "name": "python",
   "nbconvert_exporter": "python",
   "pygments_lexer": "ipython3",
   "version": "3.9.13"
  },
  "orig_nbformat": 4
 },
 "nbformat": 4,
 "nbformat_minor": 2
}

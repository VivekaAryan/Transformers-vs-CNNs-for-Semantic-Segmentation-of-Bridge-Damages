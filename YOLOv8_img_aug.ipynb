{
 "cells": [
  {
   "cell_type": "code",
   "execution_count": 1,
   "metadata": {},
   "outputs": [],
   "source": [
    "# pip install imgaug\n"
   ]
  },
  {
   "cell_type": "code",
   "execution_count": 1,
   "metadata": {},
   "outputs": [
    {
     "name": "stderr",
     "output_type": "stream",
     "text": [
      "c:\\aryan\\Cracks\\.venv\\lib\\site-packages\\tqdm\\auto.py:21: TqdmWarning: IProgress not found. Please update jupyter and ipywidgets. See https://ipywidgets.readthedocs.io/en/stable/user_install.html\n",
      "  from .autonotebook import tqdm as notebook_tqdm\n"
     ]
    }
   ],
   "source": [
    "import cv2\n",
    "import imgaug.augmenters as iaa\n",
    "import os\n",
    "import xml.etree.ElementTree as ET\n",
    "import json\n",
    "from torchvision import transforms \n",
    "from PIL import Image\n",
    "import numpy as np\n",
    "\n",
    "from dacl10k import utils\n",
    "import matplotlib.pyplot as plt\n",
    "from PIL import Image\n",
    "import cv2"
   ]
  },
  {
   "cell_type": "code",
   "execution_count": 2,
   "metadata": {},
   "outputs": [],
   "source": [
    "# Sep img and ann\n",
    "\n",
    "def apply_transforms(image_path, annotation_path, save_image_dir, save_annotation_dir):\n",
    "    # Load image\n",
    "    image = Image.open(image_path).convert(\"RGB\")\n",
    "\n",
    "    # Load LabelMe annotation\n",
    "    with open(annotation_path, \"r\") as annotation_file:\n",
    "        annotation_data = json.load(annotation_file)\n",
    "\n",
    "    # Extract polygon coordinates\n",
    "    polygons = annotation_data[\"shapes\"]\n",
    "\n",
    "    # Define PyTorch transforms\n",
    "    horizontal_flip = transforms.RandomHorizontalFlip(p=1.0)\n",
    "    vertical_flip = transforms.RandomVerticalFlip(p=1.0)\n",
    "\n",
    "    # Apply horizontal flip to image and annotations\n",
    "    flipped_image_h = horizontal_flip(image)\n",
    "\n",
    "    # Update annotation data for horizontal flip\n",
    "    for i, segment in enumerate(polygons):\n",
    "        points = np.array(segment[\"points\"]).reshape(-1, 2)\n",
    "        flipped_points_h = np.array([[image.width - point[0], point[1]] for point in points]).reshape(-1, 2).tolist()\n",
    "        polygons[i][\"points\"] = flipped_points_h\n",
    "\n",
    "    # Save augmented images\n",
    "    save_image_path_h = os.path.join(save_image_dir, \"flipped_horizontal_\" + os.path.basename(image_path))\n",
    "    flipped_image_h.save(save_image_path_h)\n",
    "\n",
    "    # Save augmented annotations\n",
    "    save_annotation_path_h = os.path.join(save_annotation_dir, \"flipped_horizontal_\" + os.path.basename(annotation_path))\n",
    "    with open(save_annotation_path_h, \"w\") as annotation_file_h:\n",
    "        json.dump(annotation_data, annotation_file_h)\n",
    "\n",
    "    # Apply vertical flip to image and annotations\n",
    "    flipped_image_v = vertical_flip(horizontal_flip(image))\n",
    "\n",
    "    # Update annotation data for vertical flip\n",
    "    for i, segment in enumerate(polygons):\n",
    "        points = np.array(segment[\"points\"]).reshape(-1, 2)\n",
    "        flipped_points_v = np.array([[point[0], image.height - point[1]] for point in points]).reshape(-1, 2).tolist()\n",
    "        polygons[i][\"points\"] = flipped_points_v\n",
    "\n",
    "    # Save augmented images\n",
    "    save_image_path_v = os.path.join(save_image_dir, \"flipped_vertical_\" + os.path.basename(image_path))\n",
    "    flipped_image_v.save(save_image_path_v)\n",
    "\n",
    "    # Save augmented annotations\n",
    "    save_annotation_path_v = os.path.join(save_annotation_dir, \"flipped_vertical_\" + os.path.basename(annotation_path))\n",
    "    with open(save_annotation_path_v, \"w\") as annotation_file_v:\n",
    "        json.dump(annotation_data, annotation_file_v)\n",
    "\n",
    "def read_images_and_annotations(image_folder, annotation_folder, output_image_folder, output_annotation_folder):\n",
    "    # Iterate over all files in the image folder\n",
    "    for filename in os.listdir(image_folder):\n",
    "        if filename.endswith(\".jpg\") or filename.endswith(\".jpeg\"):\n",
    "            # Construct paths for image and annotation\n",
    "            image_path = os.path.join(image_folder, filename)\n",
    "            annotation_path = os.path.join(annotation_folder, filename.replace(\".jpg\", \".json\").replace(\".jpeg\", \".json\"))\n",
    "\n",
    "            # Check if the corresponding annotation file exists\n",
    "            if os.path.exists(annotation_path):\n",
    "                # Apply transforms and save augmented images and annotations\n",
    "                apply_transforms(image_path, annotation_path, output_image_folder, output_annotation_folder)"
   ]
  },
  {
   "cell_type": "markdown",
   "metadata": {},
   "source": [
    "# Validation Augmentation"
   ]
  },
  {
   "cell_type": "code",
   "execution_count": 4,
   "metadata": {},
   "outputs": [],
   "source": [
    "if __name__ == \"__main__\":\n",
    "    \n",
    "    # Specify paths\n",
    "    image_folder = r\"C:\\aryan\\Cracks\\data\\dacl10k_v2_devphase\\resized\\640x640\\images\\validation\"\n",
    "    annotation_folder = r\"C:\\aryan\\Cracks\\data\\dacl10k_v2_devphase\\resized\\640x640\\annotations\\validation\"\n",
    "    output_image_folder = r\"C:\\aryan\\Cracks\\data\\dacl10k_v2_devphase\\resized\\640x640\\images_aug\\validation\"\n",
    "    output_annotation_folder = r\"C:\\aryan\\Cracks\\data\\dacl10k_v2_devphase\\resized\\640x640\\annotations_json_aug\\validation\"\n",
    "\n",
    "    # Iterate over all images and annotations\n",
    "    read_images_and_annotations(image_folder, annotation_folder, output_image_folder, output_annotation_folder)"
   ]
  },
  {
   "cell_type": "markdown",
   "metadata": {},
   "source": [
    "## Validation Checks"
   ]
  },
  {
   "cell_type": "markdown",
   "metadata": {},
   "source": [
    "### Orginal Image"
   ]
  },
  {
   "cell_type": "code",
   "execution_count": 8,
   "metadata": {},
   "outputs": [
    {
     "data": {
      "text/plain": [
       "True"
      ]
     },
     "execution_count": 8,
     "metadata": {},
     "output_type": "execute_result"
    }
   ],
   "source": [
    "image_file = r\"C:\\aryan\\Cracks\\data\\dacl10k_v2_devphase\\resized\\data\\images\\validation\\dacl10k_v2_validation_0005.jpg\"\n",
    "annotation_file = r\"C:\\aryan\\Cracks\\data\\dacl10k_v2_devphase\\resized\\data\\annotations_json\\validation\\dacl10k_v2_validation_0005.json\"\n",
    "\n",
    "image = cv2.imread(image_file)\n",
    "\n",
    "with open(annotation_file, \"rb\") as f:\n",
    "    data = json.load(f)\n",
    "    \n",
    "    polygon_points = np.array(data[\"shapes\"][0][\"points\"], dtype=np.int32)\n",
    "\n",
    "# print(polygon_points)\n",
    "\n",
    "# Draw the polygon on the image\n",
    "cv2.polylines(image, [polygon_points], isClosed=True, color=(255,0,0), thickness=2) # Display the image\n",
    "cv2.imwrite(\"Segformer_checks/Polygon Points Validation OG.png\", image)"
   ]
  },
  {
   "cell_type": "markdown",
   "metadata": {},
   "source": [
    "### Horizontal Image"
   ]
  },
  {
   "cell_type": "code",
   "execution_count": 9,
   "metadata": {},
   "outputs": [
    {
     "data": {
      "text/plain": [
       "True"
      ]
     },
     "execution_count": 9,
     "metadata": {},
     "output_type": "execute_result"
    }
   ],
   "source": [
    "image_file = r\"C:\\aryan\\Cracks\\data\\dacl10k_v2_devphase\\resized\\data\\images_aug\\validation\\flipped_horizontal_dacl10k_v2_validation_0005.jpg\"\n",
    "annotation_file = r\"C:\\aryan\\Cracks\\data\\dacl10k_v2_devphase\\resized\\data\\annotations_json_aug\\validation\\flipped_horizontal_dacl10k_v2_validation_0005.json\"\n",
    "\n",
    "image = cv2.imread(image_file)\n",
    "\n",
    "with open(annotation_file, \"rb\") as f:\n",
    "    data = json.load(f)\n",
    "    \n",
    "    polygon_points = np.array(data[\"shapes\"][0][\"points\"], dtype=np.int32)\n",
    "\n",
    "# print(polygon_points)\n",
    "\n",
    "# Draw the polygon on the image\n",
    "cv2.polylines(image, [polygon_points], isClosed=True, color=(255,0,0), thickness=2) # Display the image\n",
    "cv2.imwrite(\"Segformer_checks/Polygon Points Validation Horizontal.png\", image)"
   ]
  },
  {
   "cell_type": "markdown",
   "metadata": {},
   "source": [
    "### Vertical Image"
   ]
  },
  {
   "cell_type": "code",
   "execution_count": 10,
   "metadata": {},
   "outputs": [
    {
     "data": {
      "text/plain": [
       "True"
      ]
     },
     "execution_count": 10,
     "metadata": {},
     "output_type": "execute_result"
    }
   ],
   "source": [
    "image_file = r\"C:\\aryan\\Cracks\\data\\dacl10k_v2_devphase\\resized\\data\\images_aug\\validation\\flipped_vertical_dacl10k_v2_validation_0005.jpg\"\n",
    "annotation_file = r\"C:\\aryan\\Cracks\\data\\dacl10k_v2_devphase\\resized\\data\\annotations_json_aug\\validation\\flipped_vertical_dacl10k_v2_validation_0005.json\"\n",
    "\n",
    "image = cv2.imread(image_file)\n",
    "\n",
    "with open(annotation_file, \"rb\") as f:\n",
    "    data = json.load(f)\n",
    "    \n",
    "    polygon_points = np.array(data[\"shapes\"][0][\"points\"], dtype=np.int32)\n",
    "\n",
    "# print(polygon_points)\n",
    "\n",
    "# Draw the polygon on the image\n",
    "cv2.polylines(image, [polygon_points], isClosed=True, color=(255,0,0), thickness=2) # Display the image\n",
    "cv2.imwrite(\"Segformer_checks/Polygon Points Validation Vertical.png\", image)"
   ]
  },
  {
   "cell_type": "markdown",
   "metadata": {},
   "source": [
    "# Train Augmentation"
   ]
  },
  {
   "cell_type": "code",
   "execution_count": 11,
   "metadata": {},
   "outputs": [],
   "source": [
    "if __name__ == \"__main__\":\n",
    "    \n",
    "    # Specify paths\n",
    "    image_folder = r\"C:\\aryan\\Cracks\\data\\dacl10k_v2_devphase\\resized\\data\\images\\train\"\n",
    "    annotation_folder = r\"C:\\aryan\\Cracks\\data\\dacl10k_v2_devphase\\resized\\data\\annotations_json\\train\"\n",
    "    output_image_folder = r\"C:\\aryan\\Cracks\\data\\dacl10k_v2_devphase\\resized\\data\\images_aug\\train\"\n",
    "    output_annotation_folder = r\"C:\\aryan\\Cracks\\data\\dacl10k_v2_devphase\\resized\\data\\annotations_json_aug\\train\"\n",
    "\n",
    "    # Iterate over all images and annotations\n",
    "    read_images_and_annotations(image_folder, annotation_folder, output_image_folder, output_annotation_folder)"
   ]
  },
  {
   "cell_type": "markdown",
   "metadata": {},
   "source": [
    "## Train Check"
   ]
  },
  {
   "cell_type": "markdown",
   "metadata": {},
   "source": [
    "### Original Image"
   ]
  },
  {
   "cell_type": "code",
   "execution_count": 12,
   "metadata": {},
   "outputs": [
    {
     "data": {
      "text/plain": [
       "True"
      ]
     },
     "execution_count": 12,
     "metadata": {},
     "output_type": "execute_result"
    }
   ],
   "source": [
    "image_file = r\"C:\\aryan\\Cracks\\data\\dacl10k_v2_devphase\\images\\train\\dacl10k_v2_train_0000.jpg\"\n",
    "annotation_file = r\"C:\\aryan\\Cracks\\data\\dacl10k_v2_devphase\\annotations_labelme\\train\\dacl10k_v2_train_0000.json\"\n",
    "\n",
    "image = cv2.imread(image_file)\n",
    "\n",
    "with open(annotation_file, \"rb\") as f:\n",
    "    data = json.load(f)\n",
    "    \n",
    "    polygon_points = np.array(data[\"shapes\"][0][\"points\"], dtype=np.int32)\n",
    "\n",
    "# print(polygon_points)\n",
    "\n",
    "# Draw the polygon on the image\n",
    "cv2.polylines(image, [polygon_points], isClosed=True, color=(255,0,0), thickness=2) # Display the image\n",
    "cv2.imwrite(\"Segformer_checks/Polygon Points Train OG.png\", image)"
   ]
  },
  {
   "cell_type": "markdown",
   "metadata": {},
   "source": [
    "### Horizontal"
   ]
  },
  {
   "cell_type": "code",
   "execution_count": 15,
   "metadata": {},
   "outputs": [
    {
     "data": {
      "text/plain": [
       "True"
      ]
     },
     "execution_count": 15,
     "metadata": {},
     "output_type": "execute_result"
    }
   ],
   "source": [
    "image_file = r\"C:\\aryan\\Cracks\\data\\dacl10k_v2_devphase\\resized\\data\\images_aug\\train\\flipped_horizontal_dacl10k_v2_train_0000.jpg\"\n",
    "annotation_file = r\"C:\\aryan\\Cracks\\data\\dacl10k_v2_devphase\\resized\\data\\annotations_json_aug\\train\\flipped_horizontal_dacl10k_v2_train_0000.json\"\n",
    "\n",
    "image = cv2.imread(image_file)\n",
    "\n",
    "with open(annotation_file, \"rb\") as f:\n",
    "    data = json.load(f)\n",
    "    \n",
    "    polygon_points = np.array(data[\"shapes\"][0][\"points\"], dtype=np.int32)\n",
    "\n",
    "# print(polygon_points)\n",
    "\n",
    "# Draw the polygon on the image\n",
    "cv2.polylines(image, [polygon_points], isClosed=True, color=(255,0,0), thickness=2) # Display the image\n",
    "cv2.imwrite(\"Segformer_checks/Polygon Points Train Horizontal.png\", image)"
   ]
  },
  {
   "cell_type": "markdown",
   "metadata": {},
   "source": [
    "### Vertical"
   ]
  },
  {
   "cell_type": "code",
   "execution_count": 16,
   "metadata": {},
   "outputs": [
    {
     "data": {
      "text/plain": [
       "True"
      ]
     },
     "execution_count": 16,
     "metadata": {},
     "output_type": "execute_result"
    }
   ],
   "source": [
    "image_file = r\"C:\\aryan\\Cracks\\data\\dacl10k_v2_devphase\\resized\\data\\images_aug\\train\\flipped_vertical_dacl10k_v2_train_0000.jpg\"\n",
    "annotation_file = r\"C:\\aryan\\Cracks\\data\\dacl10k_v2_devphase\\resized\\data\\annotations_json_aug\\train\\flipped_vertical_dacl10k_v2_train_0000.json\"\n",
    "\n",
    "image = cv2.imread(image_file)\n",
    "\n",
    "with open(annotation_file, \"rb\") as f:\n",
    "    data = json.load(f)\n",
    "    \n",
    "    polygon_points = np.array(data[\"shapes\"][0][\"points\"], dtype=np.int32)\n",
    "\n",
    "# print(polygon_points)\n",
    "\n",
    "# Draw the polygon on the image\n",
    "cv2.polylines(image, [polygon_points], isClosed=True, color=(255,0,0), thickness=2) # Display the image\n",
    "cv2.imwrite(\"Segformer_checks/Polygon Points Train Vertical.png\", image)"
   ]
  },
  {
   "cell_type": "markdown",
   "metadata": {},
   "source": []
  }
 ],
 "metadata": {
  "kernelspec": {
   "display_name": ".venv",
   "language": "python",
   "name": "python3"
  },
  "language_info": {
   "codemirror_mode": {
    "name": "ipython",
    "version": 3
   },
   "file_extension": ".py",
   "mimetype": "text/x-python",
   "name": "python",
   "nbconvert_exporter": "python",
   "pygments_lexer": "ipython3",
   "version": "3.9.13"
  }
 },
 "nbformat": 4,
 "nbformat_minor": 2
}
